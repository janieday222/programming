{
  "nbformat": 4,
  "nbformat_minor": 0,
  "metadata": {
    "colab": {
      "name": "Week 8/9 Hangman",
      "provenance": [],
      "collapsed_sections": [],
      "include_colab_link": true
    },
    "kernelspec": {
      "name": "python3",
      "display_name": "Python 3"
    }
  },
  "cells": [
    {
      "cell_type": "markdown",
      "metadata": {
        "id": "view-in-github",
        "colab_type": "text"
      },
      "source": [
        "<a href=\"https://colab.research.google.com/github/janieday222/programming/blob/master/Week_8_9_Hangman.ipynb\" target=\"_parent\"><img src=\"https://colab.research.google.com/assets/colab-badge.svg\" alt=\"Open In Colab\"/></a>"
      ]
    },
    {
      "cell_type": "markdown",
      "metadata": {
        "id": "HXo3qEu-6hUj"
      },
      "source": [
        "**A WORD GUESSING GAME: HANGMAN**\n",
        "\n",
        "For week 8 and 9, your assignment is to implement the word guessing game called Hangman.\n",
        "\n",
        "As we discussed in the group meetings last week, your goal is to write a  Python that picks a word and runs the game for the user. Then the user should be able to guess letters by typing at the keyboard. Your program will then tell the user whether the letter guessed is in the word. You will repeat this process until the guesses the whole word or until the user loses and runs out of guesses. "
      ]
    },
    {
      "cell_type": "code",
      "metadata": {
        "id": "-dUspg73Krb1"
      },
      "source": [
        "#make code account for lowercase and uppercase letters and word guesses\n",
        "#account for multiples of the same letter being in the word\n",
        "#figure out how to play again\n",
        "#go thru and add instructions to help you remember\n",
        "#put everything in order and delete unnessecary things"
      ],
      "execution_count": null,
      "outputs": []
    },
    {
      "cell_type": "markdown",
      "metadata": {
        "id": "laIlOvJB7gxb"
      },
      "source": [
        "This project is a bit more difficult than anything we have done so far. Therefore, you have until the end of Week 9 to finish the assignment. \n",
        "\n",
        "I believe that the best way to make progress on this type of project is to break it into manageable chunks and get each chunk working before moving onto the next. \n",
        "\n",
        "The worksheet has some helpful examples and can be found here: https://colab.research.google.com/github/mlepinski/Python-Worksheets/blob/master/Week_8_Worksheet.ipynb\n",
        "\n",
        "The instructions here suggest particular design choices. Feel free to be creative and make adjustments as needed. As long as you get a working hangman game, I am happy. "
      ]
    },
    {
      "cell_type": "markdown",
      "metadata": {
        "id": "6pyQqC1078RX"
      },
      "source": [
        "**0)** First, you need a word. To start with, write a function called **choose_word** that just returns \"balloon\". (You can use another word if you want to, but balloon is a reasonable choice.)\n",
        "\n",
        "Eventually, you will want to have a more clever way to pick a word. However, if you write the rest of your code to just ask **choose_word** for a word, you can get things working with a boring **choose_word** function. Then you can later change the code of **choose_word** to do something more interesting and you won't have to change the rest of your program. \n",
        "\n",
        "**1)** Next you need to display the blanks to the user. (I believe the easiest way to do this is to make a list of blanks. You can find some helpful examples in the worksheet)\n",
        "\n",
        "**2)** Next you need to ask the user for a letter. (Just asking for a letter should be easy)\n",
        "\n",
        "**3)** Next you need to handle the case where the user guesses wrong. (I think it is easiest to keep track of the number of wrong guesses and then have a function **print_body** that takes as input the number of wrong guesses and prints the appropriate number of body parts. You can find some helpful example code in the worksheet)\n",
        "\n",
        "**4)** Next you need to handle the case where the user guesses correctly. (This requires you to find the location of the letter in the secret word and then change a blank into a letter. The worksheet has some examples that may be helpful.)\n",
        "\n",
        "**5)** Now you want to take what you have done and put it into a loop. I suggest a **while** loop. (You will want to leave the loop when the game is over. That is, when the user gets too many wrong guesses -- runs out of body parts -- or when the user correctly guesses the entire word)\n",
        "\n",
        "**6)** Now it is time to go back and change **choose_word**. I believe that a reasonable solution is to randomly select a word from a list of possible words (or phrases?) ... It would be even better if these possible words were stored in a separate file so that you can change the possible words without changing your program. (The worksheet has a helpful example of using Python to read an external file.)\n",
        "\n",
        "**7)** Look back at your program and see if there is any way that you can add polish or improve the use experience. Maybe it would be helpful to print out the wrong guesses that the user has made to help them avoid making the same wrong guess twice. Maybe you can print out things a little bit more nicely for the user. Maybe you could add a helpful error message if the user enters something that is not a letter when guesses. \n",
        "\n",
        "This problem is just asking to you to look back critically at your program and see if there is something that you can do to make it into a nicer finished project."
      ]
    },
    {
      "cell_type": "code",
      "metadata": {
        "id": "3khrgfgB7gNa"
      },
      "source": [
        "def choose_word():\n",
        "  return 'cheeto'"
      ],
      "execution_count": 2,
      "outputs": []
    },
    {
      "cell_type": "code",
      "metadata": {
        "id": "WIY3KCYJ6ZAw",
        "outputId": "cb7e1878-a339-4737-c226-d9a9ff138c95",
        "colab": {
          "base_uri": "https://localhost:8080/",
          "height": 34
        }
      },
      "source": [
        "#RETURNS BLANK SPACES FOR LETTERS IN THE WORD\n",
        "blanks = []\n",
        "for num in range(len(choose_word())):       #for every letter in the word they need to guess...\n",
        "  blanks.append('_ ')                       #it adds a blank and then a space to the empty list\n",
        "\n",
        "stringBlanks = ''                           \n",
        "stringBlanks = stringBlanks.join(blanks)    #.join takes items in the list and joins them into a string\n",
        "\n",
        "print('Here is the word: ' , stringBlanks)\n",
        "\n"
      ],
      "execution_count": 3,
      "outputs": [
        {
          "output_type": "stream",
          "text": [
            "Here is the word:  _ _ _ _ _ _ \n"
          ],
          "name": "stdout"
        }
      ]
    },
    {
      "cell_type": "code",
      "metadata": {
        "id": "V-gQ5iGNhIwj",
        "outputId": "0db084e7-5bdf-4b55-df3b-e4624bea5a4e",
        "colab": {
          "base_uri": "https://localhost:8080/",
          "height": 567
        }
      },
      "source": [
        "letter = input('Give me a letter: ')"
      ],
      "execution_count": 5,
      "outputs": [
        {
          "output_type": "error",
          "ename": "KeyboardInterrupt",
          "evalue": "ignored",
          "traceback": [
            "\u001b[0;31m---------------------------------------------------------------------------\u001b[0m",
            "\u001b[0;31mKeyboardInterrupt\u001b[0m                         Traceback (most recent call last)",
            "\u001b[0;32m/usr/local/lib/python3.6/dist-packages/ipykernel/kernelbase.py\u001b[0m in \u001b[0;36m_input_request\u001b[0;34m(self, prompt, ident, parent, password)\u001b[0m\n\u001b[1;32m    728\u001b[0m             \u001b[0;32mtry\u001b[0m\u001b[0;34m:\u001b[0m\u001b[0;34m\u001b[0m\u001b[0;34m\u001b[0m\u001b[0m\n\u001b[0;32m--> 729\u001b[0;31m                 \u001b[0mident\u001b[0m\u001b[0;34m,\u001b[0m \u001b[0mreply\u001b[0m \u001b[0;34m=\u001b[0m \u001b[0mself\u001b[0m\u001b[0;34m.\u001b[0m\u001b[0msession\u001b[0m\u001b[0;34m.\u001b[0m\u001b[0mrecv\u001b[0m\u001b[0;34m(\u001b[0m\u001b[0mself\u001b[0m\u001b[0;34m.\u001b[0m\u001b[0mstdin_socket\u001b[0m\u001b[0;34m,\u001b[0m \u001b[0;36m0\u001b[0m\u001b[0;34m)\u001b[0m\u001b[0;34m\u001b[0m\u001b[0;34m\u001b[0m\u001b[0m\n\u001b[0m\u001b[1;32m    730\u001b[0m             \u001b[0;32mexcept\u001b[0m \u001b[0mException\u001b[0m\u001b[0;34m:\u001b[0m\u001b[0;34m\u001b[0m\u001b[0;34m\u001b[0m\u001b[0m\n",
            "\u001b[0;32m/usr/local/lib/python3.6/dist-packages/jupyter_client/session.py\u001b[0m in \u001b[0;36mrecv\u001b[0;34m(self, socket, mode, content, copy)\u001b[0m\n\u001b[1;32m    802\u001b[0m         \u001b[0;32mtry\u001b[0m\u001b[0;34m:\u001b[0m\u001b[0;34m\u001b[0m\u001b[0;34m\u001b[0m\u001b[0m\n\u001b[0;32m--> 803\u001b[0;31m             \u001b[0mmsg_list\u001b[0m \u001b[0;34m=\u001b[0m \u001b[0msocket\u001b[0m\u001b[0;34m.\u001b[0m\u001b[0mrecv_multipart\u001b[0m\u001b[0;34m(\u001b[0m\u001b[0mmode\u001b[0m\u001b[0;34m,\u001b[0m \u001b[0mcopy\u001b[0m\u001b[0;34m=\u001b[0m\u001b[0mcopy\u001b[0m\u001b[0;34m)\u001b[0m\u001b[0;34m\u001b[0m\u001b[0;34m\u001b[0m\u001b[0m\n\u001b[0m\u001b[1;32m    804\u001b[0m         \u001b[0;32mexcept\u001b[0m \u001b[0mzmq\u001b[0m\u001b[0;34m.\u001b[0m\u001b[0mZMQError\u001b[0m \u001b[0;32mas\u001b[0m \u001b[0me\u001b[0m\u001b[0;34m:\u001b[0m\u001b[0;34m\u001b[0m\u001b[0;34m\u001b[0m\u001b[0m\n",
            "\u001b[0;32m/usr/local/lib/python3.6/dist-packages/zmq/sugar/socket.py\u001b[0m in \u001b[0;36mrecv_multipart\u001b[0;34m(self, flags, copy, track)\u001b[0m\n\u001b[1;32m    490\u001b[0m         \"\"\"\n\u001b[0;32m--> 491\u001b[0;31m         \u001b[0mparts\u001b[0m \u001b[0;34m=\u001b[0m \u001b[0;34m[\u001b[0m\u001b[0mself\u001b[0m\u001b[0;34m.\u001b[0m\u001b[0mrecv\u001b[0m\u001b[0;34m(\u001b[0m\u001b[0mflags\u001b[0m\u001b[0;34m,\u001b[0m \u001b[0mcopy\u001b[0m\u001b[0;34m=\u001b[0m\u001b[0mcopy\u001b[0m\u001b[0;34m,\u001b[0m \u001b[0mtrack\u001b[0m\u001b[0;34m=\u001b[0m\u001b[0mtrack\u001b[0m\u001b[0;34m)\u001b[0m\u001b[0;34m]\u001b[0m\u001b[0;34m\u001b[0m\u001b[0;34m\u001b[0m\u001b[0m\n\u001b[0m\u001b[1;32m    492\u001b[0m         \u001b[0;31m# have first part already, only loop while more to receive\u001b[0m\u001b[0;34m\u001b[0m\u001b[0;34m\u001b[0m\u001b[0;34m\u001b[0m\u001b[0m\n",
            "\u001b[0;32mzmq/backend/cython/socket.pyx\u001b[0m in \u001b[0;36mzmq.backend.cython.socket.Socket.recv\u001b[0;34m()\u001b[0m\n",
            "\u001b[0;32mzmq/backend/cython/socket.pyx\u001b[0m in \u001b[0;36mzmq.backend.cython.socket.Socket.recv\u001b[0;34m()\u001b[0m\n",
            "\u001b[0;32mzmq/backend/cython/socket.pyx\u001b[0m in \u001b[0;36mzmq.backend.cython.socket._recv_copy\u001b[0;34m()\u001b[0m\n",
            "\u001b[0;32m/usr/local/lib/python3.6/dist-packages/zmq/backend/cython/checkrc.pxd\u001b[0m in \u001b[0;36mzmq.backend.cython.checkrc._check_rc\u001b[0;34m()\u001b[0m\n",
            "\u001b[0;31mKeyboardInterrupt\u001b[0m: ",
            "\nDuring handling of the above exception, another exception occurred:\n",
            "\u001b[0;31mKeyboardInterrupt\u001b[0m                         Traceback (most recent call last)",
            "\u001b[0;32m<ipython-input-5-5b865626f661>\u001b[0m in \u001b[0;36m<module>\u001b[0;34m()\u001b[0m\n\u001b[0;32m----> 1\u001b[0;31m \u001b[0mletter\u001b[0m \u001b[0;34m=\u001b[0m \u001b[0minput\u001b[0m\u001b[0;34m(\u001b[0m\u001b[0;34m'Give me a letter: '\u001b[0m\u001b[0;34m)\u001b[0m\u001b[0;34m\u001b[0m\u001b[0;34m\u001b[0m\u001b[0m\n\u001b[0m",
            "\u001b[0;32m/usr/local/lib/python3.6/dist-packages/ipykernel/kernelbase.py\u001b[0m in \u001b[0;36mraw_input\u001b[0;34m(self, prompt)\u001b[0m\n\u001b[1;32m    702\u001b[0m             \u001b[0mself\u001b[0m\u001b[0;34m.\u001b[0m\u001b[0m_parent_ident\u001b[0m\u001b[0;34m,\u001b[0m\u001b[0;34m\u001b[0m\u001b[0;34m\u001b[0m\u001b[0m\n\u001b[1;32m    703\u001b[0m             \u001b[0mself\u001b[0m\u001b[0;34m.\u001b[0m\u001b[0m_parent_header\u001b[0m\u001b[0;34m,\u001b[0m\u001b[0;34m\u001b[0m\u001b[0;34m\u001b[0m\u001b[0m\n\u001b[0;32m--> 704\u001b[0;31m             \u001b[0mpassword\u001b[0m\u001b[0;34m=\u001b[0m\u001b[0;32mFalse\u001b[0m\u001b[0;34m,\u001b[0m\u001b[0;34m\u001b[0m\u001b[0;34m\u001b[0m\u001b[0m\n\u001b[0m\u001b[1;32m    705\u001b[0m         )\n\u001b[1;32m    706\u001b[0m \u001b[0;34m\u001b[0m\u001b[0m\n",
            "\u001b[0;32m/usr/local/lib/python3.6/dist-packages/ipykernel/kernelbase.py\u001b[0m in \u001b[0;36m_input_request\u001b[0;34m(self, prompt, ident, parent, password)\u001b[0m\n\u001b[1;32m    732\u001b[0m             \u001b[0;32mexcept\u001b[0m \u001b[0mKeyboardInterrupt\u001b[0m\u001b[0;34m:\u001b[0m\u001b[0;34m\u001b[0m\u001b[0;34m\u001b[0m\u001b[0m\n\u001b[1;32m    733\u001b[0m                 \u001b[0;31m# re-raise KeyboardInterrupt, to truncate traceback\u001b[0m\u001b[0;34m\u001b[0m\u001b[0;34m\u001b[0m\u001b[0;34m\u001b[0m\u001b[0m\n\u001b[0;32m--> 734\u001b[0;31m                 \u001b[0;32mraise\u001b[0m \u001b[0mKeyboardInterrupt\u001b[0m\u001b[0;34m\u001b[0m\u001b[0;34m\u001b[0m\u001b[0m\n\u001b[0m\u001b[1;32m    735\u001b[0m             \u001b[0;32melse\u001b[0m\u001b[0;34m:\u001b[0m\u001b[0;34m\u001b[0m\u001b[0;34m\u001b[0m\u001b[0m\n\u001b[1;32m    736\u001b[0m                 \u001b[0;32mbreak\u001b[0m\u001b[0;34m\u001b[0m\u001b[0;34m\u001b[0m\u001b[0m\n",
            "\u001b[0;31mKeyboardInterrupt\u001b[0m: "
          ]
        }
      ]
    },
    {
      "cell_type": "code",
      "metadata": {
        "id": "YkIrJAxkjh24",
        "outputId": "2f8cffc6-0029-45ad-e8b3-95f8fbd70016",
        "colab": {
          "base_uri": "https://localhost:8080/",
          "height": 232
        }
      },
      "source": [
        "def print_body(number):\n",
        "  if wrong_answers == 1:\n",
        "    print('   (_)    ')\n",
        "  if number == 2:\n",
        "    print(\"  (_)  \")\n",
        "    print(\"   |   \")\n",
        "    print(\"   |   \")\n",
        "  if number == 3:\n",
        "    print(\"  (_)  \")\n",
        "    print(\"  /|   \")\n",
        "    print(\" / |   \")\n",
        "  if number == 4:\n",
        "    print(\"  (_)  \")\n",
        "    print(\"  /|\\  \")\n",
        "    print(\" / | \\ \")\n",
        "  if number == 5:\n",
        "    print(\"  (_)  \")\n",
        "    print(\"  /|\\  \")\n",
        "    print(\" / | \\ \")\n",
        "    print('*     *')\n",
        "  if number == 6:\n",
        "    print(\"  (_)  \")\n",
        "    print(\"  /|\\  \")\n",
        "    print(\" / | \\ \")\n",
        "    print('*     *')\n",
        "    print(\"  /    \")\n",
        "    print(\" /     \")\n",
        "  if number == 7:\n",
        "    print(\"  (_)  \")\n",
        "    print(\"  /|\\  \")\n",
        "    print(\" / | \\ \")\n",
        "    print('*     *')\n",
        "    print(\"  / \\  \")\n",
        "    print(\" /   \\ \")\n",
        "  if number == 8:\n",
        "    print(\"  (_)  \")\n",
        "    print(\"  /|\\  \")\n",
        "    print(\" / | \\ \")\n",
        "    print('*     *')\n",
        "    print(\"  / \\  \")\n",
        "    print(\" /   \\ \")\n",
        "    print('<     >')\n",
        "\n",
        "wrong_answers = 0\n",
        "lives = 7\n",
        "\n",
        "if letter not in choose_word():\n",
        "  wrong_answers = wrong_answers + 1\n",
        "  lives = lives - 1\n",
        "  print_body(wrong_answers)\n",
        "  print('You have ' , lives , ' lives left. ')\n",
        "\n",
        "\n",
        "  \n",
        "\n"
      ],
      "execution_count": 6,
      "outputs": [
        {
          "output_type": "error",
          "ename": "NameError",
          "evalue": "ignored",
          "traceback": [
            "\u001b[0;31m---------------------------------------------------------------------------\u001b[0m",
            "\u001b[0;31mNameError\u001b[0m                                 Traceback (most recent call last)",
            "\u001b[0;32m<ipython-input-6-e545b2c3b842>\u001b[0m in \u001b[0;36m<module>\u001b[0;34m()\u001b[0m\n\u001b[1;32m     45\u001b[0m \u001b[0mlives\u001b[0m \u001b[0;34m=\u001b[0m \u001b[0;36m7\u001b[0m\u001b[0;34m\u001b[0m\u001b[0;34m\u001b[0m\u001b[0m\n\u001b[1;32m     46\u001b[0m \u001b[0;34m\u001b[0m\u001b[0m\n\u001b[0;32m---> 47\u001b[0;31m \u001b[0;32mif\u001b[0m \u001b[0mletter\u001b[0m \u001b[0;32mnot\u001b[0m \u001b[0;32min\u001b[0m \u001b[0mchoose_word\u001b[0m\u001b[0;34m(\u001b[0m\u001b[0;34m)\u001b[0m\u001b[0;34m:\u001b[0m\u001b[0;34m\u001b[0m\u001b[0;34m\u001b[0m\u001b[0m\n\u001b[0m\u001b[1;32m     48\u001b[0m   \u001b[0mwrong_answers\u001b[0m \u001b[0;34m=\u001b[0m \u001b[0mwrong_answers\u001b[0m \u001b[0;34m+\u001b[0m \u001b[0;36m1\u001b[0m\u001b[0;34m\u001b[0m\u001b[0;34m\u001b[0m\u001b[0m\n\u001b[1;32m     49\u001b[0m   \u001b[0mlives\u001b[0m \u001b[0;34m=\u001b[0m \u001b[0mlives\u001b[0m \u001b[0;34m-\u001b[0m \u001b[0;36m1\u001b[0m\u001b[0;34m\u001b[0m\u001b[0;34m\u001b[0m\u001b[0m\n",
            "\u001b[0;31mNameError\u001b[0m: name 'letter' is not defined"
          ]
        }
      ]
    },
    {
      "cell_type": "code",
      "metadata": {
        "id": "zLfQR8qW84Rs",
        "outputId": "c93bb8df-46ca-4eb4-ef66-ca0fa948500c",
        "colab": {
          "base_uri": "https://localhost:8080/",
          "height": 34
        }
      },
      "source": [
        "if letter in choose_word():\n",
        "  position_of_letter = choose_word().index(letter)\n",
        "  blanks[position_of_letter] = letter\n",
        "  stringBlanks = ''                           \n",
        "  stringBlanks = stringBlanks.join(blanks)\n",
        "  print(stringBlanks)\n",
        "\n",
        "\n",
        "\n",
        "  "
      ],
      "execution_count": 21,
      "outputs": [
        {
          "output_type": "stream",
          "text": [
            "ch_ _ _ _ \n"
          ],
          "name": "stdout"
        }
      ]
    },
    {
      "cell_type": "code",
      "metadata": {
        "id": "MDGF1ZBCEDbL",
        "outputId": "86078e36-4b77-4f85-bdde-290a6b4aedcd",
        "colab": {
          "base_uri": "https://localhost:8080/",
          "height": 107
        }
      },
      "source": [
        "#beginning of game for now\n",
        "#RETURNS BLANK SPACES FOR LETTERS IN THE WORD\n",
        "blanks = []\n",
        "for num in range(len(choose_word())):       #for every letter in the word they need to guess...\n",
        "  blanks.append('_ ')                       #it adds a blank and then a space to the empty list\n",
        "\n",
        "stringBlanks = ''                           \n",
        "stringBlanks = stringBlanks.join(blanks)    #.join takes items in the list and joins them into a string\n",
        "\n",
        "print('Here is the word: ' , stringBlanks)\n",
        "\n",
        "wrong_answers = 0\n",
        "lives = 7\n",
        "\n",
        "while True:\n",
        "  letter = input('Give me a letter: ').lower()\n",
        "\n",
        "  if letter not in choose_word():\n",
        "    wrong_answers = wrong_answers + 1\n",
        "    lives = lives - 1\n",
        "    print_body(wrong_answers)\n",
        "    print('You have ' , lives , ' lives left. ')\n",
        "\n",
        "  if letter in choose_word():\n",
        "    position_of_letter = choose_word().index(letter)      \n",
        "    blanks[position_of_letter] = letter\n",
        "    stringBlanks = ''                           \n",
        "    stringBlanks = stringBlanks.join(blanks)\n",
        "    print(stringBlanks)\n",
        "\n",
        "  guessed_word = input('If you would like to guess the word and risk ending the game, enter your guess.  If not, enter \\'skip\\': ')\n",
        "\n",
        "  if lives == 0:\n",
        "    print('You have run out of lives!!! You suck at this!!! Play again? ')      \n",
        "    break\n",
        "  if guessed_word == 'skip':\n",
        "    continue\n",
        "  if guessed_word == choose_word():\n",
        "    print('You guessed the word! You are awesome! Wow!')\n",
        "    break\n",
        "  elif guessed_word != choose_word():\n",
        "    print('That\\'s the wrong word! You suck at this!')\n",
        "    break\n",
        "   \n",
        "  \n",
        " \n",
        "  \n"
      ],
      "execution_count": null,
      "outputs": [
        {
          "output_type": "stream",
          "text": [
            "Here is the word:  _ _ _ _ _ _ \n",
            "Give me a letter: C\n",
            "c_ _ _ _ _ \n"
          ],
          "name": "stdout"
        }
      ]
    }
  ]
}
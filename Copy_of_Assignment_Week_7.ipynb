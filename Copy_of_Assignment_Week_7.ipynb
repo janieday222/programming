{
  "nbformat": 4,
  "nbformat_minor": 0,
  "metadata": {
    "colab": {
      "name": "Copy of Assignment Week 7.ipynb",
      "provenance": [],
      "collapsed_sections": [],
      "include_colab_link": true
    },
    "kernelspec": {
      "name": "python3",
      "display_name": "Python 3"
    }
  },
  "cells": [
    {
      "cell_type": "markdown",
      "metadata": {
        "id": "view-in-github",
        "colab_type": "text"
      },
      "source": [
        "<a href=\"https://colab.research.google.com/github/janieday222/programming/blob/master/Copy_of_Assignment_Week_7.ipynb\" target=\"_parent\"><img src=\"https://colab.research.google.com/assets/colab-badge.svg\" alt=\"Open In Colab\"/></a>"
      ]
    },
    {
      "cell_type": "markdown",
      "metadata": {
        "id": "ssVL6QEUKk_L"
      },
      "source": [
        "# WEEK 7 ASSIGNMENT : Working with Strings\n",
        "\n",
        "----------------\n",
        "\n",
        "You are encouraged to create a new blank workbook for your solutions. You should then save your solutions into GitHub.\n",
        "\n",
        "**0)** Write a program that prints the following by using the VARIABLE.upper() and VARIABLE.lower() commands:\n",
        "\"Hello World\"\n",
        "\"HELLO WORLD\"\n",
        "\"hello world\"\n",
        "\n",
        "**1)** Define a python function, hasVowels(str), that takes in a string as input to the function and checks to see if the string contains any vowels. Your function should return True if the string has a vowel and False if the string does not have a vowel. \n",
        "\n",
        "If your **hasVowels** function is written correctly then the following test code should work:\n",
        " "
      ]
    },
    {
      "cell_type": "code",
      "metadata": {
        "id": "2udnQYLbKddY"
      },
      "source": [
        "word = \"berry\"\n",
        "not_word = \"fghjk\"\n",
        "\n",
        "if hasVowels(word):\n",
        "  print(\"The string\", word, \"has at least one vowel\")\n",
        "else:\n",
        "  print(\"The string\", word, \"does not have any vowels\")\n",
        "\n",
        "if hasVowels(not_word):\n",
        "  print(\"The string\", not_word, \"has at least one vowel\")\n",
        "else:\n",
        "  print(\"The string\", not_word, \"does not have any vowels\")"
      ],
      "execution_count": null,
      "outputs": []
    },
    {
      "cell_type": "markdown",
      "metadata": {
        "id": "wMs6Ap_qMJDo"
      },
      "source": [
        "**2)** Write a Python program that makes use of your existing **hasVowels** function to do the following task. Repeatedly ask the user to enter a word with vowels from the keyboard, you should stop when the user correctly enters a word with vowels. \n",
        "\n",
        "For example, if the user first types \"fhbjk\" and then types \"mbbccv\" you should keep asking the user to try again until they finally successfully enter something that has at least one vowel."
      ]
    },
    {
      "cell_type": "markdown",
      "metadata": {
        "id": "3zKsF4QiMxTu"
      },
      "source": [
        "**3)** Define a Python function called, countVowels(str), that takes in a string as input to the function and returns the number of vowels in the string. \n",
        "\n",
        "You should have a count variable inside the function and then loop through the letters in the string and check each one to see if it is a vowel. \n",
        "\n",
        "If your **countVowels** function is written correctly then the following test code should work.\n",
        "\n"
      ]
    },
    {
      "cell_type": "code",
      "metadata": {
        "id": "JTWk3nZWNSTO"
      },
      "source": [
        "name1 = \"matthew\"\n",
        "name2 = \"lepinski\"\n",
        "\n",
        "count1 = countVowels(name1)\n",
        "count2 = countVowels(name2)\n",
        "\n",
        "print(name1, \"has\", count1, \"vowels in it\")\n",
        "print(name2, \"has\", count2, \"vowels in it\")"
      ],
      "execution_count": null,
      "outputs": []
    },
    {
      "cell_type": "markdown",
      "metadata": {
        "id": "6JyIDGJyNmJF"
      },
      "source": [
        "**4)** Write a Python program that starts with an empty list and then asks the user to enter a word. The program should add the word to the list and then ask for a new word (and add the new word to the list) and continue like this until the user enters \"stop\" or \"STOP\" or \"STop\" or any variation like \"sTOP\" or \"stoP\".\n",
        "\n",
        "Note: We did something similar to this last week, you might want to look at the Week 6 assignment or worksheet for inspiration"
      ]
    },
    {
      "cell_type": "markdown",
      "metadata": {
        "id": "QmWEmSA9OXtN"
      },
      "source": [
        "**5)** Use your **countVowels** funciton from problem 3 and your list of words from problem 4 together to figure out the total number of vowels in all of the words that the user enters. \n",
        "\n",
        "Note: Ideally, you should not count the 1 \"o\" in the \"stop\" that they typed at the end"
      ]
    },
    {
      "cell_type": "code",
      "metadata": {
        "id": "KDt5EprTbdhE",
        "outputId": "cedfce7a-b991-4aca-f2ff-a05f71b988ae",
        "colab": {
          "base_uri": "https://localhost:8080/",
          "height": 68
        }
      },
      "source": [
        "hi = 'Hello World'\n",
        "hiThere = hi.upper()          #makes hi uppercase\n",
        "hiBro = hi.lower()            #makes hi lowercase\n",
        "\n",
        "print(hi)\n",
        "print(hiThere)\n",
        "print(hiBro)"
      ],
      "execution_count": null,
      "outputs": [
        {
          "output_type": "stream",
          "text": [
            "Hello World\n",
            "HELLO WORLD\n",
            "hello world\n"
          ],
          "name": "stdout"
        }
      ]
    },
    {
      "cell_type": "code",
      "metadata": {
        "id": "F1_4AMUhcrEi",
        "outputId": "d8ddc01a-ce05-42a9-a216-b6721e4b70e5",
        "colab": {
          "base_uri": "https://localhost:8080/",
          "height": 51
        }
      },
      "source": [
        "def hasVowels(str):\n",
        "  str = str.lower()           #will account for if the vowel is uppercase also (makes str all lowercase)\n",
        "  if 'a' in str:              #if 'a' is in the lowercase version of str (therefore, will count for uppercase versions)\n",
        "    return True\n",
        "  if 'e' in str:\n",
        "    return True\n",
        "  if 'i' in str:\n",
        "    return True\n",
        "  if 'o' in str:\n",
        "    return True\n",
        "  if 'u' in str:\n",
        "    return True\n",
        "  else: \n",
        "    return False\n",
        "\n",
        "word = \"berry\"\n",
        "not_word = \"fghjk\"\n",
        "\n",
        "if hasVowels(word):\n",
        "  print(\"The string\", word, \"has at least one vowel\")\n",
        "else:\n",
        "  print(\"The string\", word, \"does not have any vowels\")\n",
        "\n",
        "if hasVowels(not_word):\n",
        "  print(\"The string\", not_word, \"has at least one vowel\")\n",
        "else:\n",
        "  print(\"The string\", not_word, \"does not have any vowels\")\n",
        "  "
      ],
      "execution_count": null,
      "outputs": [
        {
          "output_type": "stream",
          "text": [
            "The string bErry does not have any vowels\n",
            "The string fghjk does not have any vowels\n"
          ],
          "name": "stdout"
        }
      ]
    },
    {
      "cell_type": "code",
      "metadata": {
        "id": "dRXGgzjlg3GG",
        "outputId": "551b7ca6-4055-4cb3-e9e6-5a37626261a4",
        "colab": {
          "base_uri": "https://localhost:8080/",
          "height": 119
        }
      },
      "source": [
        "wordGiven = input('Enter a word that has at least one vowel in it: ')\n",
        "\n",
        "while not hasVowels(wordGiven):                        #loop keeps running while there isn't a vowel in wordGiven\n",
        "  wordGiven = input('Hey! That doesn\\'t have a vowel in it! Enter a word that has at least one vowel in it: ')\n",
        "\n",
        "print('Congrats!  Your word has at least one vowel in it.')           "
      ],
      "execution_count": null,
      "outputs": [
        {
          "output_type": "stream",
          "text": [
            "Enter a word that has at least one vowel in it: jkjkjkkjkjk\n",
            "Hey! That doesn't have a vowel in it! Enter a word that has at least one vowel in it: ggghghghhghg\n",
            "Hey! That doesn't have a vowel in it! Enter a word that has at least one vowel in it: ghghhghghghg\n",
            "Hey! That doesn't have a vowel in it! Enter a word that has at least one vowel in it: dsdsdssdsd\n",
            "Hey! That doesn't have a vowel in it! Enter a word that has at least one vowel in it: cheese\n",
            "Congrats!  Your word has at least one vowel in it.\n"
          ],
          "name": "stdout"
        }
      ]
    },
    {
      "cell_type": "code",
      "metadata": {
        "id": "YyCMBGRclGm7",
        "outputId": "e350c0c5-4323-49fc-90ef-098197141e5d",
        "colab": {
          "base_uri": "https://localhost:8080/"
        }
      },
      "source": [
        "def countVowels(str):\n",
        "  str = str.lower()             \n",
        "  count = 0\n",
        "  for letter in str:             #loops thru each letter in the word given as input\n",
        "    if letter in 'aeiou':        #if the letter is a vowel,\n",
        "      count = count + 1          #the count increases by 1 \n",
        "    else:\n",
        "      count = count\n",
        "  return count                  #count is the number of vowels in the word\n",
        "\n",
        "name1 = \"matthew\"\n",
        "name2 = \"lepinski\"\n",
        "\n",
        "count1 = countVowels(name1)\n",
        "count2 = countVowels(name2)\n",
        "\n",
        "print(name1, \"has\", count1, \"vowels in it\")\n",
        "print(name2, \"has\", count2, \"vowels in it\")\n",
        "\n",
        "\n"
      ],
      "execution_count": 2,
      "outputs": [
        {
          "output_type": "stream",
          "text": [
            "matthew has 2 vowels in it\n",
            "lepinski has 3 vowels in it\n"
          ],
          "name": "stdout"
        }
      ]
    },
    {
      "cell_type": "code",
      "metadata": {
        "id": "p-kqo0w3o2Jg",
        "outputId": "f3a3e48d-9821-4e5b-96db-d18e865bcbaa",
        "colab": {
          "base_uri": "https://localhost:8080/",
          "height": 136
        }
      },
      "source": [
        "wordList = []         \n",
        "userWord = input('Enter a word.  Enter \\'stop\\' when you are done: ').lower()   #makes the input all lowercase,\n",
        "                                                                          #so any version of StOp equals 'stop'\n",
        "while not userWord == 'stop':\n",
        "  wordList.append(userWord)           #adds word to list\n",
        "  userWord = input('Enter a word.  Enter \\'stop\\' when you are done: ').lower()\n",
        "\n",
        "print(wordList)\n"
      ],
      "execution_count": null,
      "outputs": [
        {
          "output_type": "stream",
          "text": [
            "Enter a word.  Enter 'stop' when you are done: cheese\n",
            "Enter a word.  Enter 'stop' when you are done: toes\n",
            "Enter a word.  Enter 'stop' when you are done: beer\n",
            "Enter a word.  Enter 'stop' when you are done: country music\n",
            "Enter a word.  Enter 'stop' when you are done: Dolly Parton\n",
            "Enter a word.  Enter 'stop' when you are done: sToP\n",
            "['cheese', 'toes', 'beer', 'country music', 'dolly parton']\n"
          ],
          "name": "stdout"
        }
      ]
    },
    {
      "cell_type": "code",
      "metadata": {
        "id": "iADzijN_tJwg",
        "outputId": "0051d520-fed9-4cf1-8e1f-4c1fc8831238",
        "colab": {
          "base_uri": "https://localhost:8080/"
        }
      },
      "source": [
        "wordList = []         \n",
        "userWord = input('Enter a word.  Enter \\'stop\\' when you are done: ').lower()  \n",
        "vowelNum = 0\n",
        "\n",
        "while not userWord == 'stop':\n",
        "  wordList.append(userWord)         \n",
        "  userWord = input('Enter a word.  Enter \\'stop\\' when you are done: ').lower()\n",
        "  \n",
        "for userWord in wordList:\n",
        "  vowelNum = vowelNum + countVowels(userWord)       #adds the amount of vowels in each word to the previous amount of vowels\n",
        "\n",
        "print(vowelNum)"
      ],
      "execution_count": 3,
      "outputs": [
        {
          "output_type": "stream",
          "text": [
            "Enter a word.  Enter 'stop' when you are done: cheese\n",
            "Enter a word.  Enter 'stop' when you are done: fries\n",
            "Enter a word.  Enter 'stop' when you are done: tire swing\n",
            "Enter a word.  Enter 'stop' when you are done: bandana\n",
            "Enter a word.  Enter 'stop' when you are done: money\n",
            "Enter a word.  Enter 'stop' when you are done: cars\n",
            "Enter a word.  Enter 'stop' when you are done: StOp\n",
            "14\n"
          ],
          "name": "stdout"
        }
      ]
    }
  ]
}
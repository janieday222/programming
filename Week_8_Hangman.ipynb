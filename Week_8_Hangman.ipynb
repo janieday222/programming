{
  "nbformat": 4,
  "nbformat_minor": 0,
  "metadata": {
    "colab": {
      "name": "Week 8 Hangman",
      "provenance": [],
      "collapsed_sections": [],
      "include_colab_link": true
    },
    "kernelspec": {
      "name": "python3",
      "display_name": "Python 3"
    }
  },
  "cells": [
    {
      "cell_type": "markdown",
      "metadata": {
        "id": "view-in-github",
        "colab_type": "text"
      },
      "source": [
        "<a href=\"https://colab.research.google.com/github/janieday222/programming/blob/master/Week_8_Hangman.ipynb\" target=\"_parent\"><img src=\"https://colab.research.google.com/assets/colab-badge.svg\" alt=\"Open In Colab\"/></a>"
      ]
    },
    {
      "cell_type": "markdown",
      "metadata": {
        "id": "HXo3qEu-6hUj"
      },
      "source": [
        "**A WORD GUESSING GAME: HANGMAN**\n",
        "\n",
        "For week 8 and 9, your assignment is to implement the word guessing game called Hangman.\n",
        "\n",
        "As we discussed in the group meetings last week, your goal is to write a  Python that picks a word and runs the game for the user. Then the user should be able to guess letters by typing at the keyboard. Your program will then tell the user whether the letter guessed is in the word. You will repeat this process until the guesses the whole word or until the user loses and runs out of guesses. "
      ]
    },
    {
      "cell_type": "markdown",
      "metadata": {
        "id": "laIlOvJB7gxb"
      },
      "source": [
        "This project is a bit more difficult than anything we have done so far. Therefore, you have until the end of Week 9 to finish the assignment. \n",
        "\n",
        "I believe that the best way to make progress on this type of project is to break it into manageable chunks and get each chunk working before moving onto the next. \n",
        "\n",
        "The worksheet has some helpful examples and can be found here: https://colab.research.google.com/github/mlepinski/Python-Worksheets/blob/master/Week_8_Worksheet.ipynb\n",
        "\n",
        "The instructions here suggest particular design choices. Feel free to be creative and make adjustments as needed. As long as you get a working hangman game, I am happy. "
      ]
    },
    {
      "cell_type": "markdown",
      "metadata": {
        "id": "6pyQqC1078RX"
      },
      "source": [
        "**0)** First, you need a word. To start with, write a function called **choose_word** that just returns \"balloon\". (You can use another word if you want to, but balloon is a reasonable choice.)\n",
        "\n",
        "Eventually, you will want to have a more clever way to pick a word. However, if you write the rest of your code to just ask **choose_word** for a word, you can get things working with a boring **choose_word** function. Then you can later change the code of **choose_word** to do something more interesting and you won't have to change the rest of your program. \n",
        "\n",
        "**1)** Next you need to display the blanks to the user. (I believe the easiest way to do this is to make a list of blanks. You can find some helpful examples in the worksheet)\n",
        "\n",
        "**2)** Next you need to ask the user for a letter. (Just asking for a letter should be easy)\n",
        "\n",
        "**3)** Next you need to handle the case where the user guesses wrong. (I think it is easiest to keep track of the number of wrong guesses and then have a function **print_body** that takes as input the number of wrong guesses and prints the appropriate number of body parts. You can find some helpful example code in the worksheet)\n",
        "\n",
        "**4)** Next you need to handle the case where the user guesses correctly. (This requires you to find the location of the letter in the secret word and then change a blank into a letter. The worksheet has some examples that may be helpful.)\n",
        "\n",
        "**5)** Now you want to take what you have done and put it into a loop. I suggest a **while** loop. (You will want to leave the loop when the game is over. That is, when the user gets too many wrong guesses -- runs out of body parts -- or when the user correctly guesses the entire word)\n",
        "\n",
        "**6)** Now it is time to go back and change **choose_word**. I believe that a reasonable solution is to randomly select a word from a list of possible words (or phrases?) ... It would be even better if these possible words were stored in a separate file so that you can change the possible words without changing your program. (The worksheet has a helpful example of using Python to read an external file.)\n",
        "\n",
        "**7)** Look back at your program and see if there is any way that you can add polish or improve the use experience. Maybe it would be helpful to print out the wrong guesses that the user has made to help them avoid making the same wrong guess twice. Maybe you can print out things a little bit more nicely for the user. Maybe you could add a helpful error message if the user enters something that is not a letter when guesses. \n",
        "\n",
        "This problem is just asking to you to look back critically at your program and see if there is something that you can do to make it into a nicer finished project."
      ]
    },
    {
      "cell_type": "code",
      "metadata": {
        "id": "3khrgfgB7gNa"
      },
      "source": [
        "def choose_word():\n",
        "  return 'cheeto'"
      ],
      "execution_count": null,
      "outputs": []
    },
    {
      "cell_type": "code",
      "metadata": {
        "id": "WIY3KCYJ6ZAw",
        "outputId": "89b26e22-c58c-43c4-c490-560cd3d94d44",
        "colab": {
          "base_uri": "https://localhost:8080/",
          "height": 34
        }
      },
      "source": [
        "#RETURNS BLANK SPACES FOR LETTERS IN THE WORD\n",
        "blanks = []\n",
        "for num in range(len(choose_word())):       #for every letter in the word they need to guess...\n",
        "  blanks.append('_ ')                       #it adds a blank and then a space to the empty list\n",
        "\n",
        "stringBlanks = ''                           \n",
        "stringBlanks = stringBlanks.join(blanks)    #.join takes items in the list and joins them into a string\n",
        "\n",
        "print('Here is the word: ' , stringBlanks)\n",
        "\n"
      ],
      "execution_count": null,
      "outputs": [
        {
          "output_type": "stream",
          "text": [
            "Here is the word:  _ _ _ _ _ _ \n"
          ],
          "name": "stdout"
        }
      ]
    },
    {
      "cell_type": "code",
      "metadata": {
        "id": "V-gQ5iGNhIwj",
        "outputId": "2df4b6d3-b244-4ac2-de92-59c02b787e0e",
        "colab": {
          "base_uri": "https://localhost:8080/",
          "height": 51
        }
      },
      "source": [
        "letter = input('Give me a letter: ')"
      ],
      "execution_count": null,
      "outputs": [
        {
          "output_type": "stream",
          "text": [
            "Welcome to Hangman!\n",
            "Give me a letter: a\n"
          ],
          "name": "stdout"
        }
      ]
    },
    {
      "cell_type": "code",
      "metadata": {
        "id": "YkIrJAxkjh24"
      },
      "source": [
        "if letter in choose_word():\n",
        "  "
      ],
      "execution_count": null,
      "outputs": []
    }
  ]
}
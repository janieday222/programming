{
  "nbformat": 4,
  "nbformat_minor": 0,
  "metadata": {
    "colab": {
      "name": "Week 10 Assignment",
      "provenance": [],
      "collapsed_sections": [],
      "include_colab_link": true
    },
    "kernelspec": {
      "name": "python3",
      "display_name": "Python 3"
    }
  },
  "cells": [
    {
      "cell_type": "markdown",
      "metadata": {
        "id": "view-in-github",
        "colab_type": "text"
      },
      "source": [
        "<a href=\"https://colab.research.google.com/github/janieday222/programming/blob/master/Week_10_Assignment.ipynb\" target=\"_parent\"><img src=\"https://colab.research.google.com/assets/colab-badge.svg\" alt=\"Open In Colab\"/></a>"
      ]
    },
    {
      "cell_type": "markdown",
      "metadata": {
        "id": "3s6mU2pbouTC"
      },
      "source": [
        "**FUN WITH TEXT FILES**\n",
        "\n",
        "In the worksheet this week, we had a bunch of examples of working with text in an external file. In the assignment, we will build on the examples in the Worksheet. \n",
        "\n",
        "You can find the worksheet here: https://github.com/mlepinski/Python-Worksheets/blob/master/Week_10_Worksheet.ipynb\n",
        "\n",
        "1) Write a function, **count_lines** that takes in a file name as input to the function. (That is, as a parameter to the function, you don't want someone to have to type a URL at the keyboard). You function should loop through the lines in the file and count how many lines there are. \n",
        "\n",
        "If you write your function correctly, the following test code should work:"
      ]
    },
    {
      "cell_type": "code",
      "metadata": {
        "id": "XB2Sfz41osfq"
      },
      "source": [
        "file_name1 = \"https://raw.githubusercontent.com/mlepinski/Python-Worksheets/master/Sonnets.txt\"\n",
        "answer1 = count_lines(file_name1)\n",
        "\n",
        "file_name2 = file_name = \"https://raw.githubusercontent.com/mlepinski/Python-Worksheets/master/coolWords.txt\"\n",
        "answer2 = count_lines(file_name2)\n",
        "\n",
        "print(\"First file number of lines:\" , answer1)\n",
        "print(\"Second file number of lines:\" , answer2)"
      ],
      "execution_count": null,
      "outputs": []
    },
    {
      "cell_type": "markdown",
      "metadata": {
        "id": "-UbHZq45q1gy"
      },
      "source": [
        "2) Write a function, **lines_with_word** that takes two as input both a file name and a word and counts how many lines in the file contain the word. \n",
        "\n",
        "Note: If the word is \"war\" it is perfectly fine (as in the Worksheet) to count lines with \"warm\" or \"warning\" as long as the letters \"war\" are somewhere on the line.\n",
        "\n",
        "Here is some test code: \n"
      ]
    },
    {
      "cell_type": "code",
      "metadata": {
        "id": "FMDKgKu1rR3w",
        "outputId": "9f39cadf-b426-44a4-e0bc-a3bb540ee7ef",
        "colab": {
          "base_uri": "https://localhost:8080/",
          "height": 351
        }
      },
      "source": [
        "file_name = \"https://raw.githubusercontent.com/mlepinski/Python-Worksheets/master/Sonnets.txt\"\n",
        "answer1 = lines_with_word(file_name, \"monuments\")\n",
        "\n",
        "print(\"monuments appears in \", answer1, \"lines\")\n",
        "\n",
        "answer2 = lines_with_word(file_name, \"war\")\n",
        "\n",
        "print(\"war appears in \", answer2, \"lines\")"
      ],
      "execution_count": null,
      "outputs": [
        {
          "output_type": "error",
          "ename": "NameError",
          "evalue": "ignored",
          "traceback": [
            "\u001b[0;31m---------------------------------------------------------------------------\u001b[0m",
            "\u001b[0;31mNameError\u001b[0m                                 Traceback (most recent call last)",
            "\u001b[0;32m<ipython-input-3-e081dbb47d6a>\u001b[0m in \u001b[0;36m<module>\u001b[0;34m()\u001b[0m\n\u001b[1;32m      1\u001b[0m \u001b[0mfile_name\u001b[0m \u001b[0;34m=\u001b[0m \u001b[0;34m\"https://raw.githubusercontent.com/mlepinski/Python-Worksheets/master/Sonnets.txt\"\u001b[0m\u001b[0;34m\u001b[0m\u001b[0;34m\u001b[0m\u001b[0m\n\u001b[0;32m----> 2\u001b[0;31m \u001b[0manswer1\u001b[0m \u001b[0;34m=\u001b[0m \u001b[0mlines_with_word\u001b[0m\u001b[0;34m(\u001b[0m\u001b[0mfile_name\u001b[0m\u001b[0;34m,\u001b[0m \u001b[0;34m\"monuments\"\u001b[0m\u001b[0;34m)\u001b[0m\u001b[0;34m\u001b[0m\u001b[0;34m\u001b[0m\u001b[0m\n\u001b[0m\u001b[1;32m      3\u001b[0m \u001b[0;34m\u001b[0m\u001b[0m\n\u001b[1;32m      4\u001b[0m \u001b[0mprint\u001b[0m\u001b[0;34m(\u001b[0m\u001b[0;34m\"monuments appears in \"\u001b[0m\u001b[0;34m,\u001b[0m \u001b[0manswer1\u001b[0m\u001b[0;34m,\u001b[0m \u001b[0;34m\"lines\"\u001b[0m\u001b[0;34m)\u001b[0m\u001b[0;34m\u001b[0m\u001b[0;34m\u001b[0m\u001b[0m\n\u001b[1;32m      5\u001b[0m \u001b[0;34m\u001b[0m\u001b[0m\n",
            "\u001b[0;32m<ipython-input-2-1ad5eeef7d2f>\u001b[0m in \u001b[0;36mlines_with_word\u001b[0;34m(file_name, word)\u001b[0m\n\u001b[1;32m      1\u001b[0m \u001b[0;32mdef\u001b[0m \u001b[0mlines_with_word\u001b[0m\u001b[0;34m(\u001b[0m\u001b[0mfile_name\u001b[0m\u001b[0;34m,\u001b[0m \u001b[0mword\u001b[0m\u001b[0;34m)\u001b[0m\u001b[0;34m:\u001b[0m\u001b[0;34m\u001b[0m\u001b[0;34m\u001b[0m\u001b[0m\n\u001b[1;32m      2\u001b[0m   \u001b[0;32mimport\u001b[0m \u001b[0murllib\u001b[0m\u001b[0;34m.\u001b[0m\u001b[0mrequest\u001b[0m\u001b[0;34m\u001b[0m\u001b[0;34m\u001b[0m\u001b[0m\n\u001b[0;32m----> 3\u001b[0;31m   \u001b[0mthe_file\u001b[0m \u001b[0;34m-\u001b[0m \u001b[0murllib\u001b[0m\u001b[0;34m.\u001b[0m\u001b[0mrequest\u001b[0m\u001b[0;34m.\u001b[0m\u001b[0murlopen\u001b[0m\u001b[0;34m(\u001b[0m\u001b[0mfile_name\u001b[0m\u001b[0;34m)\u001b[0m\u001b[0;34m\u001b[0m\u001b[0;34m\u001b[0m\u001b[0m\n\u001b[0m\u001b[1;32m      4\u001b[0m \u001b[0;34m\u001b[0m\u001b[0m\n\u001b[1;32m      5\u001b[0m   \u001b[0mline_count\u001b[0m \u001b[0;34m=\u001b[0m \u001b[0;36m1\u001b[0m\u001b[0;34m\u001b[0m\u001b[0;34m\u001b[0m\u001b[0m\n",
            "\u001b[0;31mNameError\u001b[0m: name 'the_file' is not defined"
          ]
        }
      ]
    },
    {
      "cell_type": "markdown",
      "metadata": {
        "id": "zeI-gGmMrh5c"
      },
      "source": [
        "3) Modify your previous function **lines_with_word** so that it converts the entire line to lowercase before looking for the given word. (This way, if the word is \"shall\" and the line contains \"Shall\", it will still get counted.)\n",
        "\n",
        "Note: Your new function and your old function should give different answers with the input \"shall\" because sometimes \"shall\" is capitolized (\"Shall\") in the file. "
      ]
    },
    {
      "cell_type": "markdown",
      "metadata": {
        "id": "1Mor-eu6sHo-"
      },
      "source": [
        "4) Write a function **word_count** that takes as input a file name and a word and returns how many times the word appears in the file. \n",
        "\n",
        "Your function is counting occurances of the word and not lines. Also, for this problem please match the word exactly (so if you are looking for \"war\", don't count \"warm\" or \"warning\"). \n",
        "\n",
        "Also, as in question 3, your function should match regardless of whether the word in the file is upper case or lower case.\n",
        "\n",
        "Here is some example code."
      ]
    },
    {
      "cell_type": "code",
      "metadata": {
        "id": "Gx42q67ysHF0",
        "outputId": "a22e7914-e9d4-4885-c3df-d526d276ce66",
        "colab": {
          "base_uri": "https://localhost:8080/",
          "height": 232
        }
      },
      "source": [
        "file_name = \"https://raw.githubusercontent.com/mlepinski/Python-Worksheets/master/Sonnets.txt\"\n",
        "answer1 = word_count(file_name, \"monuments\")\n",
        "\n",
        "print(\"monuments appears \", answer1, \"times\")\n",
        "\n",
        "answer2 = word_count(file_name, \"war\")\n",
        "\n",
        "print(\"war appears times\", answer1, \"times\")"
      ],
      "execution_count": null,
      "outputs": [
        {
          "output_type": "error",
          "ename": "NameError",
          "evalue": "ignored",
          "traceback": [
            "\u001b[0;31m---------------------------------------------------------------------------\u001b[0m",
            "\u001b[0;31mNameError\u001b[0m                                 Traceback (most recent call last)",
            "\u001b[0;32m<ipython-input-4-ca750ef87efd>\u001b[0m in \u001b[0;36m<module>\u001b[0;34m()\u001b[0m\n\u001b[1;32m      1\u001b[0m \u001b[0mfile_name\u001b[0m \u001b[0;34m=\u001b[0m \u001b[0;34m\"https://raw.githubusercontent.com/mlepinski/Python-Worksheets/master/Sonnets.txt\"\u001b[0m\u001b[0;34m\u001b[0m\u001b[0;34m\u001b[0m\u001b[0m\n\u001b[0;32m----> 2\u001b[0;31m \u001b[0manswer1\u001b[0m \u001b[0;34m=\u001b[0m \u001b[0mword_count\u001b[0m\u001b[0;34m(\u001b[0m\u001b[0mfile_name\u001b[0m\u001b[0;34m,\u001b[0m \u001b[0;34m\"monuments\"\u001b[0m\u001b[0;34m)\u001b[0m\u001b[0;34m\u001b[0m\u001b[0;34m\u001b[0m\u001b[0m\n\u001b[0m\u001b[1;32m      3\u001b[0m \u001b[0;34m\u001b[0m\u001b[0m\n\u001b[1;32m      4\u001b[0m \u001b[0mprint\u001b[0m\u001b[0;34m(\u001b[0m\u001b[0;34m\"monuments appears \"\u001b[0m\u001b[0;34m,\u001b[0m \u001b[0manswer1\u001b[0m\u001b[0;34m,\u001b[0m \u001b[0;34m\"times\"\u001b[0m\u001b[0;34m)\u001b[0m\u001b[0;34m\u001b[0m\u001b[0;34m\u001b[0m\u001b[0m\n\u001b[1;32m      5\u001b[0m \u001b[0;34m\u001b[0m\u001b[0m\n",
            "\u001b[0;31mNameError\u001b[0m: name 'word_count' is not defined"
          ]
        }
      ]
    },
    {
      "cell_type": "markdown",
      "metadata": {
        "id": "h1g7_zq0sjCN"
      },
      "source": [
        "5) It is probably the case that your function in number 4 doesn't handle punctuation very well. \n",
        "\n",
        "If you are looking for \"warm\" and you find \"warm,\" you ideally want \"warm,\" to be counted even though there is a comma present. \n",
        "\n",
        "Modify your **word_count** function so that you remove punctuation like commas, periods, and semi-colons from the file before you go and count the words. \n",
        "\n",
        "If you do this correctly, your new function should give you different answers for words like \"memory\" and \"fuel\" which appear in the file attached to puncuation marks. "
      ]
    },
    {
      "cell_type": "markdown",
      "metadata": {
        "id": "Hexbcc9qsxB8"
      },
      "source": [
        "6) Write a function **word_frequency** that takes in a file name and a file_name and a word as input to the function and returns what percentage of the words in the file match a particular word. \n",
        "\n",
        "That is, you should count the total number of words and divide your word count by the total to get a percentage frequency. This will tell you how often the word appears and could allow you to compare frequencies across files with different lengths. \n",
        "\n",
        "Note: An excellent way to do this is to have your **word_frequency** function make a call to your **word_count** function from the previous problem. \n",
        "\n",
        "You don't have to do this, but now that you have a **word_frequency** function it would be fun to grab another text file from somewhere (it could be something that you have written or something from project Guttenberg) and stick it in your Github. Then use your **word_frequency** function to see if there are certain words (e.g. \"thee\" or maybe even \"shall\") that are used more often by Shakespeare in his sonnets than in the other text file that you found."
      ]
    },
    {
      "cell_type": "code",
      "metadata": {
        "id": "27Lw7czoSqM2",
        "outputId": "8a54aa6c-5f69-4f87-ca13-ed1740d9bebb",
        "colab": {
          "base_uri": "https://localhost:8080/"
        }
      },
      "source": [
        "#Number 1\n",
        "\n",
        "def count_lines(file_name):\n",
        "  import urllib.request\n",
        "  user_file = urllib.request.urlopen(file_name)\n",
        "  lineCount = 0\n",
        "  for line in user_file:        #loop through the actual file, user_file, not file_name\n",
        "    line = line.decode('utf-8')\n",
        "    lineCount = lineCount + 1\n",
        "  return lineCount\n",
        "\n",
        "\n",
        "file_name1 = \"https://raw.githubusercontent.com/mlepinski/Python-Worksheets/master/Sonnets.txt\"\n",
        "answer1 = count_lines(file_name1)\n",
        "\n",
        "file_name2 = file_name = \"https://raw.githubusercontent.com/mlepinski/Python-Worksheets/master/coolWords.txt\"\n",
        "answer2 = count_lines(file_name2)\n",
        "\n",
        "print(\"First file number of lines:\" , answer1)\n",
        "print(\"Second file number of lines:\" , answer2)\n"
      ],
      "execution_count": 31,
      "outputs": [
        {
          "output_type": "stream",
          "text": [
            "First file number of lines: 2617\n",
            "Second file number of lines: 718\n"
          ],
          "name": "stdout"
        }
      ]
    },
    {
      "cell_type": "code",
      "metadata": {
        "id": "xvc7Td1-VJQR",
        "outputId": "7b67602c-559e-44dc-d10d-3f20470c89d1",
        "colab": {
          "base_uri": "https://localhost:8080/"
        }
      },
      "source": [
        "#Number 2\n",
        "\n",
        "def lines_with_word(file_name, word):          #takes in two variables as imput\n",
        "  import urllib.request\n",
        "  the_file = urllib.request.urlopen(file_name) \n",
        "\n",
        "  line_count = 0\n",
        "\n",
        "  for line in the_file:\n",
        "    line = line.decode('utf-8')\n",
        "    if word in line:\n",
        "      line_count = line_count + 1\n",
        "  return line_count\n",
        "  \n",
        "\n",
        "\n",
        "file_name = \"https://raw.githubusercontent.com/mlepinski/Python-Worksheets/master/Sonnets.txt\"\n",
        "answer1 = lines_with_word(file_name, \"monuments\")\n",
        "\n",
        "print(\"monuments appears in \", answer1, \"lines\")\n",
        "\n",
        "answer2 = lines_with_word(file_name, \"war\")\n",
        "\n",
        "print(\"war appears in \", answer2, \"lines\")\n",
        "     \n"
      ],
      "execution_count": 32,
      "outputs": [
        {
          "output_type": "stream",
          "text": [
            "monuments appears in  1 lines\n",
            "war appears in  39 lines\n"
          ],
          "name": "stdout"
        }
      ]
    },
    {
      "cell_type": "code",
      "metadata": {
        "id": "hV-IwJruThB4"
      },
      "source": [
        "#Number 3\n",
        "\n",
        "def lines_with_word(file_name, word):\n",
        "  import urllib.request\n",
        "  the_file = urllib.request.urlopen(file_name)\n",
        "\n",
        "  line_count = 1\n",
        "\n",
        "  for line in the_file:\n",
        "    line = line.lower()\n",
        "    line = line.decode('utf-8')\n",
        "    if word in line:\n",
        "      line_count = line_count + 1\n",
        "  return line_count\n",
        "\n",
        "\n",
        "\n",
        "\n",
        "     \n"
      ],
      "execution_count": 33,
      "outputs": []
    },
    {
      "cell_type": "code",
      "metadata": {
        "id": "5v59CHhGUp_-",
        "outputId": "6527e9d6-8bea-44ac-d11e-384cc32ad2c3",
        "colab": {
          "base_uri": "https://localhost:8080/"
        }
      },
      "source": [
        "#Number 4 \n",
        "\n",
        "def word_count(file_name, word):\n",
        "  import urllib.request\n",
        "  the_file = urllib.request.urlopen(file_name)\n",
        "\n",
        "  string_of_file = the_file.read()        #this puts the contents of the entire file into one string\n",
        "  string_of_file = string_of_file.decode('utf-8')\n",
        "\n",
        "  no_line_breaks = string_of_file.replace('\\n', ' ')      #replaces the line breaks with just a space(whole thing is one long line)\n",
        "  list_of_words = no_line_breaks.split()          #splits the string ito individual words and makes a list of the words\n",
        "\n",
        "  number_of_word = 0\n",
        "  for each_word in list_of_words:\n",
        "    if each_word == word:                     #if the word is equal to the word that was inputted into the function\n",
        "      number_of_word = number_of_word + 1\n",
        "\n",
        "  return number_of_word\n",
        "\n",
        "file_name = \"https://raw.githubusercontent.com/mlepinski/Python-Worksheets/master/Sonnets.txt\"\n",
        "answer1 = word_count(file_name, \"monuments\")\n",
        "\n",
        "print(\"monuments appears \", answer1, \"times\")\n",
        "\n",
        "answer2 = word_count(file_name, \"war\")\n",
        "\n",
        "print(\"war appears times\", answer2, \"times\")\n"
      ],
      "execution_count": 34,
      "outputs": [
        {
          "output_type": "stream",
          "text": [
            "monuments appears  1 times\n",
            "war appears times 6 times\n"
          ],
          "name": "stdout"
        }
      ]
    },
    {
      "cell_type": "code",
      "metadata": {
        "id": "CIDxrVxlZokU",
        "outputId": "e895fc38-f0be-4fa7-f745-4706ddb7c1be",
        "colab": {
          "base_uri": "https://localhost:8080/"
        }
      },
      "source": [
        "#Number 5\n",
        "\n",
        "def word_count(file_name, word):\n",
        "  import urllib.request\n",
        "  the_file = urllib.request.urlopen(file_name)\n",
        "\n",
        "  string_of_file = the_file.read()        \n",
        "  string_of_file = string_of_file.decode('utf-8')\n",
        "\n",
        "  no_line_breaks = string_of_file.replace('\\n', ' ')\n",
        "  no_commas = no_line_breaks.replace(',',' ')          #replace can't be used on a list so you have to replace before splitting into a list of words\n",
        "  no_periods = no_commas.replace('.',' ') \n",
        "  no_punctuation_list = no_periods.replace(';',' ')       \n",
        "  list_of_words = no_punctuation_list.split()   \n",
        "     \n",
        "\n",
        "  number_of_word = 0\n",
        "  for each_word in list_of_words:\n",
        "    if each_word == word:                     \n",
        "      number_of_word = number_of_word + 1\n",
        "      \n",
        "\n",
        "  return number_of_word\n",
        "\n",
        "file_name = \"https://raw.githubusercontent.com/mlepinski/Python-Worksheets/master/Sonnets.txt\"\n",
        "word_count(file_name, 'creatures')"
      ],
      "execution_count": 35,
      "outputs": [
        {
          "output_type": "execute_result",
          "data": {
            "text/plain": [
              "2"
            ]
          },
          "metadata": {
            "tags": []
          },
          "execution_count": 35
        }
      ]
    },
    {
      "cell_type": "code",
      "metadata": {
        "id": "7nNNfdXtbHmi",
        "outputId": "d4749855-feed-48be-a7ae-27600f7cfc78",
        "colab": {
          "base_uri": "https://localhost:8080/"
        }
      },
      "source": [
        "#Number 6\n",
        "\n",
        "def word_frequency(file_name, word):\n",
        "  import urllib.request\n",
        "  the_file = urllib.request.urlopen(file_name)\n",
        "\n",
        "  number_of_word = word_count(file_name,word)\n",
        "\n",
        "  string_of_file = the_file.read()        \n",
        "  string_of_file = string_of_file.decode('utf-8')\n",
        "\n",
        "\n",
        "  no_line_breaks = string_of_file.replace('\\n', ' ')\n",
        "  no_commas = no_line_breaks.replace(',',' ')          #replace can't be used on a list so you have to replace before splitting into a list of words\n",
        "  no_periods = no_commas.replace('.',' ') \n",
        "  no_punctuation_list = no_periods.replace(';',' ')       \n",
        "  list_of_words = no_punctuation_list.split()     \n",
        "\n",
        "  total_words = 0\n",
        "  for each_word in list_of_words:\n",
        "    total_words = total_words + 1\n",
        " \n",
        " \n",
        "  word_percentage = number_of_word/total_words\n",
        "  return word_percentage\n",
        "\n",
        "\n",
        "file_name = \"https://raw.githubusercontent.com/mlepinski/Python-Worksheets/master/Sonnets.txt\"\n",
        "word_frequency(file_name, 'love')\n",
        "\n"
      ],
      "execution_count": 48,
      "outputs": [
        {
          "output_type": "execute_result",
          "data": {
            "text/plain": [
              "0.008482243836236145"
            ]
          },
          "metadata": {
            "tags": []
          },
          "execution_count": 48
        }
      ]
    }
  ]
}
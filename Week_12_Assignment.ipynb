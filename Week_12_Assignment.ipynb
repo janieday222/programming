{
  "nbformat": 4,
  "nbformat_minor": 0,
  "metadata": {
    "colab": {
      "name": "Week 12 Assignment",
      "provenance": [],
      "collapsed_sections": [],
      "include_colab_link": true
    },
    "kernelspec": {
      "name": "python3",
      "display_name": "Python 3"
    }
  },
  "cells": [
    {
      "cell_type": "markdown",
      "metadata": {
        "id": "view-in-github",
        "colab_type": "text"
      },
      "source": [
        "<a href=\"https://colab.research.google.com/github/janieday222/programming/blob/master/Week_12_Assignment.ipynb\" target=\"_parent\"><img src=\"https://colab.research.google.com/assets/colab-badge.svg\" alt=\"Open In Colab\"/></a>"
      ]
    },
    {
      "cell_type": "markdown",
      "metadata": {
        "id": "BsOHbOwEl2_2"
      },
      "source": [
        "**FUN WITH SPREADSHEET DATA**\n",
        "\n",
        "In the worksheet this week, we had a bunch of examples of working with spreadsheet data in an external file. In the assignment, we will build on the examples in the Worksheet.\n",
        "\n",
        "You can find the worksheet here: https://github.com/mlepinski/Python-Worksheets/blob/master/Week_12_Worksheet.ipynb\n",
        "\n",
        "For these problems you should use the state data file in my GitHub repository. https://raw.githubusercontent.com/mlepinski/Python-Worksheets/master/states.csv"
      ]
    },
    {
      "cell_type": "code",
      "metadata": {
        "id": "Ukfid6sElx_n"
      },
      "source": [
        "file_name = \"https://raw.githubusercontent.com/mlepinski/Python-Worksheets/master/states.csv\""
      ],
      "execution_count": null,
      "outputs": []
    },
    {
      "cell_type": "markdown",
      "metadata": {
        "id": "r4g_dchAm6XT"
      },
      "source": [
        "1) The median is the middle value of a set of numbers. (https://en.wikipedia.org/wiki/Median) \n",
        "\n",
        "Write Python code to find the Median population of a state. Since the state data includes the District of Columbia, the median would be the state with the  26th highest population.\n",
        "\n",
        "2) Write Python code to figure out how many state names start with the letter \"M\". \n",
        "\n",
        "Recall that if you have a string, you can get the first letter of the string by using **[0]**. For example, if **name** is a string, then **name[0]** is the first letter of the string\n",
        "\n",
        "3) Population density is the number of people divided by the amount of area. Write Python code that adds a column to the state data that lists the population density of the state. \n",
        "\n",
        "Note: You can print out the **head()** of the data table to make sure this worked.\n",
        "\n",
        "4) Write Python code to figure out which state has the largest population density? the least population density? the median population density?"
      ]
    },
    {
      "cell_type": "code",
      "metadata": {
        "id": "H-qpg-Ja2xuu",
        "outputId": "ecb1ccd3-3231-4877-c79e-b8dccfd52744",
        "colab": {
          "base_uri": "https://localhost:8080/"
        }
      },
      "source": [
        "#Number 1\n",
        "\n",
        "import pandas\n",
        "\n",
        "file_name = \"https://raw.githubusercontent.com/mlepinski/Python-Worksheets/master/states.csv\"\n",
        "state_data = pandas.read_csv(file_name)\n",
        "\n",
        "median_pop = state_data[\"Pop\"].median()         #\"Pop\" is a name of a column in the spreadsheet that includes all the populations of states)\n",
        "\n",
        "print(median_pop)\n"
      ],
      "execution_count": null,
      "outputs": [
        {
          "output_type": "stream",
          "text": [
            "3294394.0\n"
          ],
          "name": "stdout"
        }
      ]
    },
    {
      "cell_type": "code",
      "metadata": {
        "id": "9g5-N61J45K4",
        "outputId": "1471fa99-75f3-466b-bfdc-3a053fc0280d",
        "colab": {
          "base_uri": "https://localhost:8080/"
        }
      },
      "source": [
        "#Number 2 \n",
        "\n",
        "import pandas\n",
        "\n",
        "file_name = \"https://raw.githubusercontent.com/mlepinski/Python-Worksheets/master/states.csv\"\n",
        "state_data = pandas.read_csv(file_name)\n",
        "\n",
        "states_with_m = 0\n",
        "\n",
        "for name in state_data[\"Name\"]:         #\"Name\" is the column in the spreadsheet with the names of states\n",
        "  if name[0] == \"M\":                    #name[0] is the first letter of the word\n",
        "    states_with_m = states_with_m + 1\n",
        "\n",
        "print(str(states_with_m) + \" state names start with the letter \\\"M\\\"\")\n"
      ],
      "execution_count": null,
      "outputs": [
        {
          "output_type": "stream",
          "text": [
            "8 state names start with the letter \"M\"\n"
          ],
          "name": "stdout"
        }
      ]
    },
    {
      "cell_type": "code",
      "metadata": {
        "id": "19tKIQy_8O6r",
        "outputId": "ba28ccf9-9499-43a5-d629-5b6bcc72fa2f",
        "colab": {
          "base_uri": "https://localhost:8080/",
          "height": 204
        }
      },
      "source": [
        "#Number 3\n",
        "\n",
        "import pandas\n",
        "\n",
        "file_name = \"https://raw.githubusercontent.com/mlepinski/Python-Worksheets/master/states.csv\"\n",
        "state_data = pandas.read_csv(file_name)\n",
        "\n",
        "state_data[\"Pop Density\"] = state_data[\"Pop\"] / state_data[\"Area\"]   #division\n",
        "\n",
        "state_data.head()       #prints out first few rows of spreadsheet\n"
      ],
      "execution_count": null,
      "outputs": [
        {
          "output_type": "execute_result",
          "data": {
            "text/html": [
              "<div>\n",
              "<style scoped>\n",
              "    .dataframe tbody tr th:only-of-type {\n",
              "        vertical-align: middle;\n",
              "    }\n",
              "\n",
              "    .dataframe tbody tr th {\n",
              "        vertical-align: top;\n",
              "    }\n",
              "\n",
              "    .dataframe thead th {\n",
              "        text-align: right;\n",
              "    }\n",
              "</style>\n",
              "<table border=\"1\" class=\"dataframe\">\n",
              "  <thead>\n",
              "    <tr style=\"text-align: right;\">\n",
              "      <th></th>\n",
              "      <th>Name</th>\n",
              "      <th>State</th>\n",
              "      <th>Area</th>\n",
              "      <th>Pop</th>\n",
              "      <th>Pop Density</th>\n",
              "    </tr>\n",
              "  </thead>\n",
              "  <tbody>\n",
              "    <tr>\n",
              "      <th>0</th>\n",
              "      <td>Alabama</td>\n",
              "      <td>AL</td>\n",
              "      <td>52423</td>\n",
              "      <td>4040587</td>\n",
              "      <td>77.076608</td>\n",
              "    </tr>\n",
              "    <tr>\n",
              "      <th>1</th>\n",
              "      <td>Alaska</td>\n",
              "      <td>AK</td>\n",
              "      <td>656424</td>\n",
              "      <td>550043</td>\n",
              "      <td>0.837939</td>\n",
              "    </tr>\n",
              "    <tr>\n",
              "      <th>2</th>\n",
              "      <td>Arizona</td>\n",
              "      <td>AZ</td>\n",
              "      <td>114006</td>\n",
              "      <td>3665228</td>\n",
              "      <td>32.149431</td>\n",
              "    </tr>\n",
              "    <tr>\n",
              "      <th>3</th>\n",
              "      <td>Arkansas</td>\n",
              "      <td>AR</td>\n",
              "      <td>53182</td>\n",
              "      <td>2350725</td>\n",
              "      <td>44.201516</td>\n",
              "    </tr>\n",
              "    <tr>\n",
              "      <th>4</th>\n",
              "      <td>California</td>\n",
              "      <td>CA</td>\n",
              "      <td>163707</td>\n",
              "      <td>29769021</td>\n",
              "      <td>181.843299</td>\n",
              "    </tr>\n",
              "  </tbody>\n",
              "</table>\n",
              "</div>"
            ],
            "text/plain": [
              "         Name State    Area       Pop  Pop Density\n",
              "0     Alabama    AL   52423   4040587    77.076608\n",
              "1      Alaska    AK  656424    550043     0.837939\n",
              "2     Arizona    AZ  114006   3665228    32.149431\n",
              "3    Arkansas    AR   53182   2350725    44.201516\n",
              "4  California    CA  163707  29769021   181.843299"
            ]
          },
          "metadata": {
            "tags": []
          },
          "execution_count": 48
        }
      ]
    },
    {
      "cell_type": "code",
      "metadata": {
        "id": "IifqadbB94fK",
        "outputId": "dffab17a-7376-4e47-ae00-c09d20a0a25b",
        "colab": {
          "base_uri": "https://localhost:8080/"
        }
      },
      "source": [
        "#Number 4 \n",
        "\n",
        "import pandas\n",
        "\n",
        "file_name = \"https://raw.githubusercontent.com/mlepinski/Python-Worksheets/master/states.csv\"\n",
        "state_data = pandas.read_csv(file_name)\n",
        "\n",
        "state_data[\"Pop Density\"] = state_data[\"Pop\"] / state_data[\"Area\"]\n",
        "\n",
        "biggest_pop_density = 0\n",
        "biggest_name = \" \"\n",
        "\n",
        "#Largest Population Density:\n",
        "\n",
        "for (row_num, row) in state_data.iterrows():\n",
        "  if row[\"Pop Density\"] > biggest_pop_density:\n",
        "    biggest_pop_density = row[\"Pop Density\"]\n",
        "    biggest_name = row[\"Name\"]\n",
        "\n",
        "print(\"The state with the largest population density is \" + biggest_name + \" with a population density of \" + str(biggest_pop_density))\n",
        "\n",
        "#Least Population Density:\n",
        "\n",
        "smallest_pop_density = 100       #can't put zero \n",
        "smallest_name = \" \"\n",
        "\n",
        "for (row_num, row) in state_data.iterrows():\n",
        "  if row[\"Pop Density\"] < smallest_pop_density:\n",
        "    smallest_pop_density = row[\"Pop Density\"]\n",
        "    smallest_name = row[\"Name\"]\n",
        "\n",
        "print(\"The state with the least population density is \" + smallest_name + \" with a population density of \" + str(smallest_pop_density))\n",
        "\n",
        "#Median Population Density:\n",
        "\n",
        "median_pop_density = state_data[\"Pop Density\"].median()\n",
        "median_pop_row = state_data[state_data[\"Pop Density\"] == median_pop_density]\n",
        "\n",
        "print(median_pop_row)\n"
      ],
      "execution_count": 54,
      "outputs": [
        {
          "output_type": "stream",
          "text": [
            "The state with the largest population density is District of Columbia with a population density of 8925.0\n",
            "The state with the least population density is Alaska with a population density of 0.8379385884733038\n",
            "         Name State   Area      Pop  Pop Density\n",
            "49  Wisconsin    WI  65499  4891769    74.684636\n"
          ],
          "name": "stdout"
        }
      ]
    }
  ]
}
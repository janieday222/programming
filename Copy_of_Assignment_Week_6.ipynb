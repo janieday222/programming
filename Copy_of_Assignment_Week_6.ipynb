{
  "nbformat": 4,
  "nbformat_minor": 0,
  "metadata": {
    "colab": {
      "name": "Copy of Assignment Week 6.ipynb",
      "provenance": [],
      "include_colab_link": true
    },
    "kernelspec": {
      "name": "python3",
      "display_name": "Python 3"
    }
  },
  "cells": [
    {
      "cell_type": "markdown",
      "metadata": {
        "id": "view-in-github",
        "colab_type": "text"
      },
      "source": [
        "<a href=\"https://colab.research.google.com/github/janieday222/programming/blob/master/Copy_of_Assignment_Week_6.ipynb\" target=\"_parent\"><img src=\"https://colab.research.google.com/assets/colab-badge.svg\" alt=\"Open In Colab\"/></a>"
      ]
    },
    {
      "cell_type": "markdown",
      "metadata": {
        "id": "OmbYt8lDcUhp"
      },
      "source": [
        "# WEEK 6 ASSIGNMENT : Introduction to Lists\n",
        "\n",
        "----------------\n",
        "\n",
        "Due to the exam, the assignment this week is a bit shorter than ussual. \n",
        "\n",
        "You are encouraged to create a new blank workbook for your solutions. You should then save your solutions into GitHub.\n",
        "\n",
        "**0)** Create a list that contains \"Hello\" and \"World\". Write a program that prints out this list. \n",
        "\n",
        "**1)** Create a program that starts with an empty list and then uses a while loop to repeatedly ask the user to enter the name of a food. The program should add each food to the list. The program should stop when the user enters \"stop\".\n",
        "\n",
        "Note: There is an example similar to this in the worksheet.\n",
        "\n",
        "**2)** Use the list that you created in Problem 2. Write additional Python instructions that ask the user to enter a food to delete from the list. You should then delete the requested food from the list and print the list.\n",
        "\n",
        "**3)** Use the list that you created in Problem 2. Write a loop that goes through every element of the list checks whether the food is \"olives\" (or \"olive\") and prints out the food name provided that it is not \"olives\". (I despise \"olives\", wouldn't want to print out that stuff!)\n",
        "\n",
        "To test out your program, you may need to re-run the code from Problem 2 to create a list that contains \"olives\" so you can verify that your code for Problem 4 correctly omits \"olives\" when printing the list.  \n"
      ]
    },
    {
      "cell_type": "code",
      "metadata": {
        "id": "7ZzvEKmJFqcQ",
        "outputId": "8ac08574-66da-47be-8dc2-87a4d7e8494a",
        "colab": {
          "base_uri": "https://localhost:8080/",
          "height": 34
        }
      },
      "source": [
        "hi = ['Hello','World']\n",
        "print(hi)\n"
      ],
      "execution_count": null,
      "outputs": [
        {
          "output_type": "stream",
          "text": [
            "['Hello', 'World']\n"
          ],
          "name": "stdout"
        }
      ]
    },
    {
      "cell_type": "code",
      "metadata": {
        "id": "ioVOFGeUGAFI",
        "outputId": "5c382dd7-d7c5-4465-f845-22ee6aeec09c",
        "colab": {
          "base_uri": "https://localhost:8080/",
          "height": 136
        }
      },
      "source": [
        "food = []                                                #this creates an empty list at the beginning\n",
        "\n",
        "food_given = input('Enter the name of a food. Enter stop when you are finished: ')          #must define food_given at first\n",
        "\n",
        "while not food_given == 'stop':                                   #when they input stop, the while loop while end \n",
        "  food.append(food_given)                                  #append means to add the food they gave to the list\n",
        "  food_given = input('Enter the name of a food. Enter stop when you are finished: ')             \n",
        "\n",
        "print(food)\n"
      ],
      "execution_count": null,
      "outputs": [
        {
          "output_type": "stream",
          "text": [
            "Enter the name of a food. Enter stop when you are finished: mango\n",
            "Enter the name of a food. Enter stop when you are finished: cheese\n",
            "Enter the name of a food. Enter stop when you are finished: sushi\n",
            "Enter the name of a food. Enter stop when you are finished: burrito\n",
            "Enter the name of a food. Enter stop when you are finished: quesadilla\n",
            "Enter the name of a food. Enter stop when you are finished: stop\n",
            "['mango', 'cheese', 'sushi', 'burrito', 'quesadilla']\n"
          ],
          "name": "stdout"
        }
      ]
    },
    {
      "cell_type": "code",
      "metadata": {
        "id": "3n-yfebcINTL",
        "outputId": "e0e911cf-8630-478b-9d04-e2833cd0b713",
        "colab": {
          "base_uri": "https://localhost:8080/",
          "height": 187
        }
      },
      "source": [
        "food = []                                             \n",
        "\n",
        "food_given = input('Enter the name of a food. Enter stop when you are finished: ')\n",
        "\n",
        "while not food_given == 'stop':                         \n",
        "  food.append(food_given)                          \n",
        "  food_given = input('Enter the name of a food. Enter stop when you are finished: ')\n",
        "  \n",
        "unwanted_food = input('Enter the name of a food to delete off the list: ')              \n",
        "food.remove(unwanted_food)\n",
        "\n",
        "print(food)"
      ],
      "execution_count": null,
      "outputs": [
        {
          "output_type": "stream",
          "text": [
            "Enter the name of a food. Enter stop when you are finished: cheesecake\n",
            "Enter the name of a food. Enter stop when you are finished: tofu\n",
            "Enter the name of a food. Enter stop when you are finished: hamburger\n",
            "Enter the name of a food. Enter stop when you are finished: meatballs\n",
            "Enter the name of a food. Enter stop when you are finished: starfruit\n",
            "Enter the name of a food. Enter stop when you are finished: lettuce\n",
            "Enter the name of a food. Enter stop when you are finished: mushrooms\n",
            "Enter the name of a food. Enter stop when you are finished: stop\n",
            "Enter the name of a food to delete off the list: meatballs\n",
            "['cheesecake', 'tofu', 'hamburger', 'starfruit', 'lettuce', 'mushrooms']\n"
          ],
          "name": "stdout"
        }
      ]
    },
    {
      "cell_type": "code",
      "metadata": {
        "id": "PBchnnd2J5eB",
        "outputId": "afd3035d-9838-4c68-fd37-757ab649e746",
        "colab": {
          "base_uri": "https://localhost:8080/",
          "height": 255
        }
      },
      "source": [
        "food = []\n",
        "\n",
        "food_given = input('Enter the name of a food.  Enter stop when you are done: ')\n",
        "\n",
        "while not food_given == 'stop':\n",
        "  food.append(food_given)\n",
        "  food_given = input('Enter the name of a food.  Enter stop when you are done: ')\n",
        "\n",
        "for food_given in food:\n",
        "  if food_given == 'olive':\n",
        "    continue               #continue-skips the rest of the code inside the loop for the current iteration only (olive or olives).\n",
        "  elif food_given == 'olives':\n",
        "    continue\n",
        "  else:\n",
        "    print(food_given)\n",
        " \n"
      ],
      "execution_count": null,
      "outputs": [
        {
          "output_type": "stream",
          "text": [
            "Enter the name of a food.  Enter stop when you are done: cheese\n",
            "Enter the name of a food.  Enter stop when you are done: bread\n",
            "Enter the name of a food.  Enter stop when you are done: taquitos\n",
            "Enter the name of a food.  Enter stop when you are done: tacos\n",
            "Enter the name of a food.  Enter stop when you are done: bacon grease\n",
            "Enter the name of a food.  Enter stop when you are done: olives\n",
            "Enter the name of a food.  Enter stop when you are done: sauerkraut\n",
            "Enter the name of a food.  Enter stop when you are done: stop\n",
            "cheese\n",
            "bread\n",
            "taquitos\n",
            "tacos\n",
            "bacon grease\n",
            "sauerkraut\n"
          ],
          "name": "stdout"
        }
      ]
    }
  ]
}